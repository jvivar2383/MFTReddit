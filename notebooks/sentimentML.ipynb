{
 "cells": [
  {
   "cell_type": "code",
   "execution_count": 1,
   "id": "4f323cee-1610-4b35-b1b1-d2d2f97fc7d9",
   "metadata": {},
   "outputs": [],
   "source": [
    "import pandas as pd\n",
    "import numpy as np\n",
    "import seaborn as sns\n",
    "import matplotlib.pyplot as plt"
   ]
  },
  {
   "cell_type": "markdown",
   "id": "78675aff-f3ea-48ef-8d8e-8b9952f40d9f",
   "metadata": {},
   "source": [
    "# Loading and exploring the data"
   ]
  },
  {
   "cell_type": "code",
   "execution_count": 2,
   "id": "5c8a59b8-6516-4c2d-9f0a-e45615a814f3",
   "metadata": {},
   "outputs": [
    {
     "data": {
      "text/html": [
       "<div>\n",
       "<style scoped>\n",
       "    .dataframe tbody tr th:only-of-type {\n",
       "        vertical-align: middle;\n",
       "    }\n",
       "\n",
       "    .dataframe tbody tr th {\n",
       "        vertical-align: top;\n",
       "    }\n",
       "\n",
       "    .dataframe thead th {\n",
       "        text-align: right;\n",
       "    }\n",
       "</style>\n",
       "<table border=\"1\" class=\"dataframe\">\n",
       "  <thead>\n",
       "    <tr style=\"text-align: right;\">\n",
       "      <th></th>\n",
       "      <th>text</th>\n",
       "      <th>subreddit</th>\n",
       "      <th>bucket</th>\n",
       "      <th>annotator</th>\n",
       "      <th>annotation</th>\n",
       "      <th>confidence</th>\n",
       "    </tr>\n",
       "  </thead>\n",
       "  <tbody>\n",
       "    <tr>\n",
       "      <th>0</th>\n",
       "      <td>MLP doesn't need to wait for a referendum to b...</td>\n",
       "      <td>europe</td>\n",
       "      <td>French politics</td>\n",
       "      <td>annotator00</td>\n",
       "      <td>Authority</td>\n",
       "      <td>Not Confident</td>\n",
       "    </tr>\n",
       "    <tr>\n",
       "      <th>1</th>\n",
       "      <td>Or - or - assclowns like Le Pen and Farage cou...</td>\n",
       "      <td>worldnews</td>\n",
       "      <td>French politics</td>\n",
       "      <td>annotator02</td>\n",
       "      <td>Equality</td>\n",
       "      <td>Confident</td>\n",
       "    </tr>\n",
       "    <tr>\n",
       "      <th>2</th>\n",
       "      <td>Congratulations on your victory Macron voters....</td>\n",
       "      <td>worldnews</td>\n",
       "      <td>French politics</td>\n",
       "      <td>annotator00</td>\n",
       "      <td>Care</td>\n",
       "      <td>Not Confident</td>\n",
       "    </tr>\n",
       "    <tr>\n",
       "      <th>3</th>\n",
       "      <td>The German Constitution did not let Hitler bec...</td>\n",
       "      <td>neoliberal</td>\n",
       "      <td>French politics</td>\n",
       "      <td>annotator02</td>\n",
       "      <td>Equality</td>\n",
       "      <td>Somewhat Confident</td>\n",
       "    </tr>\n",
       "    <tr>\n",
       "      <th>4</th>\n",
       "      <td>So Republicans really are for liberal policies...</td>\n",
       "      <td>politics</td>\n",
       "      <td>US Politics</td>\n",
       "      <td>annotator03</td>\n",
       "      <td>Equality</td>\n",
       "      <td>Confident</td>\n",
       "    </tr>\n",
       "  </tbody>\n",
       "</table>\n",
       "</div>"
      ],
      "text/plain": [
       "                                                text   subreddit  \\\n",
       "0  MLP doesn't need to wait for a referendum to b...      europe   \n",
       "1  Or - or - assclowns like Le Pen and Farage cou...   worldnews   \n",
       "2  Congratulations on your victory Macron voters....   worldnews   \n",
       "3  The German Constitution did not let Hitler bec...  neoliberal   \n",
       "4  So Republicans really are for liberal policies...    politics   \n",
       "\n",
       "            bucket    annotator annotation          confidence  \n",
       "0  French politics  annotator00  Authority       Not Confident  \n",
       "1  French politics  annotator02   Equality           Confident  \n",
       "2  French politics  annotator00       Care       Not Confident  \n",
       "3  French politics  annotator02   Equality  Somewhat Confident  \n",
       "4      US Politics  annotator03   Equality           Confident  "
      ]
     },
     "execution_count": 2,
     "metadata": {},
     "output_type": "execute_result"
    }
   ],
   "source": [
    "p= \"reddit_annoted.csv\"\n",
    "df = pd.read_csv(p)\n",
    "df.head()"
   ]
  },
  {
   "cell_type": "code",
   "execution_count": 3,
   "id": "a82dcb48-8467-4073-a385-d2691ccbda7d",
   "metadata": {},
   "outputs": [
    {
     "data": {
      "text/plain": [
       "<AxesSubplot:ylabel='subreddit'>"
      ]
     },
     "execution_count": 3,
     "metadata": {},
     "output_type": "execute_result"
    },
    {
     "data": {
      "image/png": "[encoded data removed]",
      "text/plain": [
       "<Figure size 640x480 with 1 Axes>"
      ]
     },
     "metadata": {},
     "output_type": "display_data"
    }
   ],
   "source": [
    "df.subreddit.value_counts().plot(kind = 'barh')"
   ]
  },
  {
   "cell_type": "code",
   "execution_count": 4,
   "id": "f94feb3f-1f9d-419d-b493-9f568d572ff8",
   "metadata": {},
   "outputs": [
    {
     "data": {
      "text/html": [
       "<div>\n",
       "<style scoped>\n",
       "    .dataframe tbody tr th:only-of-type {\n",
       "        vertical-align: middle;\n",
       "    }\n",
       "\n",
       "    .dataframe tbody tr th {\n",
       "        vertical-align: top;\n",
       "    }\n",
       "\n",
       "    .dataframe thead th {\n",
       "        text-align: right;\n",
       "    }\n",
       "</style>\n",
       "<table border=\"1\" class=\"dataframe\">\n",
       "  <thead>\n",
       "    <tr style=\"text-align: right;\">\n",
       "      <th></th>\n",
       "      <th>text</th>\n",
       "      <th>subreddit</th>\n",
       "      <th>bucket</th>\n",
       "      <th>annotator</th>\n",
       "      <th>annotation</th>\n",
       "      <th>confidence</th>\n",
       "    </tr>\n",
       "  </thead>\n",
       "  <tbody>\n",
       "    <tr>\n",
       "      <th>1</th>\n",
       "      <td>Or - or - assclowns like Le Pen and Farage cou...</td>\n",
       "      <td>worldnews</td>\n",
       "      <td>French politics</td>\n",
       "      <td>annotator02</td>\n",
       "      <td>Equality</td>\n",
       "      <td>Confident</td>\n",
       "    </tr>\n",
       "    <tr>\n",
       "      <th>4</th>\n",
       "      <td>So Republicans really are for liberal policies...</td>\n",
       "      <td>politics</td>\n",
       "      <td>US Politics</td>\n",
       "      <td>annotator03</td>\n",
       "      <td>Equality</td>\n",
       "      <td>Confident</td>\n",
       "    </tr>\n",
       "    <tr>\n",
       "      <th>6</th>\n",
       "      <td>&amp;gt; How about the fact that the majority of M...</td>\n",
       "      <td>europe</td>\n",
       "      <td>French politics</td>\n",
       "      <td>annotator01</td>\n",
       "      <td>Authority,Proportionality</td>\n",
       "      <td>Confident</td>\n",
       "    </tr>\n",
       "    <tr>\n",
       "      <th>7</th>\n",
       "      <td>What proportion of tipped workers don't want i...</td>\n",
       "      <td>antiwork</td>\n",
       "      <td>US Politics</td>\n",
       "      <td>annotator04</td>\n",
       "      <td>Proportionality</td>\n",
       "      <td>Confident</td>\n",
       "    </tr>\n",
       "    <tr>\n",
       "      <th>8</th>\n",
       "      <td>'I think capitalists are loathsome parasites t...</td>\n",
       "      <td>antiwork</td>\n",
       "      <td>US Politics</td>\n",
       "      <td>annotator02</td>\n",
       "      <td>Equality</td>\n",
       "      <td>Confident</td>\n",
       "    </tr>\n",
       "  </tbody>\n",
       "</table>\n",
       "</div>"
      ],
      "text/plain": [
       "                                                text  subreddit  \\\n",
       "1  Or - or - assclowns like Le Pen and Farage cou...  worldnews   \n",
       "4  So Republicans really are for liberal policies...   politics   \n",
       "6  &gt; How about the fact that the majority of M...     europe   \n",
       "7  What proportion of tipped workers don't want i...   antiwork   \n",
       "8  'I think capitalists are loathsome parasites t...   antiwork   \n",
       "\n",
       "            bucket    annotator                 annotation confidence  \n",
       "1  French politics  annotator02                   Equality  Confident  \n",
       "4      US Politics  annotator03                   Equality  Confident  \n",
       "6  French politics  annotator01  Authority,Proportionality  Confident  \n",
       "7      US Politics  annotator04            Proportionality  Confident  \n",
       "8      US Politics  annotator02                   Equality  Confident  "
      ]
     },
     "execution_count": 4,
     "metadata": {},
     "output_type": "execute_result"
    }
   ],
   "source": [
    "#before starting to do any analysis we will only take the annotations where annotators wwere confident\n",
    "df.drop(np.where(df.confidence != 'Confident')[0], inplace = True)\n",
    "df.head()"
   ]
  },
  {
   "cell_type": "markdown",
   "id": "6f48d18e-7648-46b4-aa10-3a9de22b35cb",
   "metadata": {},
   "source": [
    "## Next i only one one label per anotation."
   ]
  },
  {
   "cell_type": "code",
   "execution_count": 5,
   "id": "7e5d48fd-4858-4777-be38-28e445e52f20",
   "metadata": {
    "tags": []
   },
   "outputs": [],
   "source": [
    "labels = [\"Care\", \"Authority\", \"Equality\", \"Proportionality\", \"Loyalty\", \"Purity\"]\n",
    "unwanted = [label for label in df.annotation if label not in labels]\n",
    "unwanted_ = np.unique(unwanted)\n"
   ]
  },
  {
   "cell_type": "code",
   "execution_count": 6,
   "id": "b446c2ca-43aa-4cde-941a-3ad0addc4944",
   "metadata": {},
   "outputs": [],
   "source": [
    "#choosing only one of the labels for each annotation containing more than one label\n",
    "for anno in unwanted_:\n",
    "    ann = anno.split(sep = ',')\n",
    "    #randomly selecting a label since all the annotators are confident in all the labels\n",
    "    val = np.random.randint(len(ann), size=1)\n",
    "    df.loc[df['annotation'] == anno, 'annotation'] = ann[val[0]]\n",
    "   "
   ]
  },
  {
   "cell_type": "code",
   "execution_count": 7,
   "id": "a5e19f58-febc-43fc-b1a4-f3b352a4ffe7",
   "metadata": {},
   "outputs": [
    {
     "data": {
      "text/html": [
       "<div>\n",
       "<style scoped>\n",
       "    .dataframe tbody tr th:only-of-type {\n",
       "        vertical-align: middle;\n",
       "    }\n",
       "\n",
       "    .dataframe tbody tr th {\n",
       "        vertical-align: top;\n",
       "    }\n",
       "\n",
       "    .dataframe thead th {\n",
       "        text-align: right;\n",
       "    }\n",
       "</style>\n",
       "<table border=\"1\" class=\"dataframe\">\n",
       "  <thead>\n",
       "    <tr style=\"text-align: right;\">\n",
       "      <th></th>\n",
       "      <th>text</th>\n",
       "      <th>subreddit</th>\n",
       "      <th>bucket</th>\n",
       "      <th>annotator</th>\n",
       "      <th>annotation</th>\n",
       "      <th>confidence</th>\n",
       "    </tr>\n",
       "  </thead>\n",
       "  <tbody>\n",
       "    <tr>\n",
       "      <th>4074</th>\n",
       "      <td>McConnell is always uncertain about things tha...</td>\n",
       "      <td>politics</td>\n",
       "      <td>US Politics</td>\n",
       "      <td>annotator02</td>\n",
       "      <td>Non-Moral</td>\n",
       "      <td>Confident</td>\n",
       "    </tr>\n",
       "  </tbody>\n",
       "</table>\n",
       "</div>"
      ],
      "text/plain": [
       "                                                   text subreddit  \\\n",
       "4074  McConnell is always uncertain about things tha...  politics   \n",
       "\n",
       "           bucket    annotator annotation confidence  \n",
       "4074  US Politics  annotator02  Non-Moral  Confident  "
      ]
     },
     "execution_count": 7,
     "metadata": {},
     "output_type": "execute_result"
    }
   ],
   "source": [
    "df.iloc[np.where(df.annotation == \"Non-Moral\")[0]]"
   ]
  },
  {
   "cell_type": "code",
   "execution_count": 8,
   "id": "f15c4077-acd2-4da9-ac8f-8557edf22ba1",
   "metadata": {
    "tags": []
   },
   "outputs": [
    {
     "data": {
      "text/plain": [
       "annotation\n",
       "Care               896\n",
       "Equality           836\n",
       "Authority          631\n",
       "Proportionality    590\n",
       "Purity             253\n",
       "Loyalty            251\n",
       "Name: count, dtype: int64"
      ]
     },
     "execution_count": 8,
     "metadata": {},
     "output_type": "execute_result"
    }
   ],
   "source": [
    "df.drop(np.where(df.annotation == \"Care,Thin\")[0], inplace = True)\n",
    "df.drop(4074, inplace = True)\n",
    "df.annotation.value_counts()"
   ]
  },
  {
   "cell_type": "code",
   "execution_count": 9,
   "id": "79cff8ee-307b-4b23-bac7-61d90e3fc444",
   "metadata": {},
   "outputs": [
    {
     "data": {
      "text/plain": [
       "<AxesSubplot:ylabel='annotation'>"
      ]
     },
     "execution_count": 9,
     "metadata": {},
     "output_type": "execute_result"
    },
    {
     "data": {
      "image/png": "[encoded data removed]",
      "text/plain": [
       "<Figure size 640x480 with 1 Axes>"
      ]
     },
     "metadata": {},
     "output_type": "display_data"
    }
   ],
   "source": [
    "df.annotation.value_counts().plot(kind = 'barh')"
   ]
  },
  {
   "cell_type": "markdown",
   "id": "d8e21d00-bcab-4ac1-bfad-412484b010bb",
   "metadata": {},
   "source": [
    "### Because the data is highly imbalance a resampling technique will be use so that the model can accurately predict the sentiment in the text."
   ]
  },
  {
   "cell_type": "markdown",
   "id": "8a0bceda-45de-4ec0-96b1-1f8b748cbf26",
   "metadata": {},
   "source": [
    "# CLEANING TEXT DATA\n",
    "\n",
    "\n",
    "Text data from social platforms is one of the most challenging data types there is. This is because the data needs to go throught many steps before is use. The comments in the platforms have many misspellings, odd abreviations, emojis and names of people commenters are often responding to in the comments. This ie beyong the standard HTML characters found n text gather from the web."
   ]
  },
  {
   "cell_type": "code",
   "execution_count": 10,
   "id": "f0cd6767-92ab-47d4-969b-e7df271808b6",
   "metadata": {
    "tags": []
   },
   "outputs": [],
   "source": [
    "from cleantext import clean"
   ]
  },
  {
   "cell_type": "code",
   "execution_count": 11,
   "id": "f635149a-d368-446a-81d2-b1906c502ef0",
   "metadata": {},
   "outputs": [
    {
     "data": {
      "text/plain": [
       "array([\"Or - or - assclowns like Le Pen and Farage could have demonstrated that they have ethics and morals by refuse to use money they've received *from the very institution they're trying to destroy*.  \\n\\nThat they did not shows exactly what sort of power-hungry hypocrites they are.\",\n",
       "       'So Republicans really are for liberal policies just also with a lot of racism.',\n",
       "       \"&gt; How about the fact that the majority of Melenchon voters went for Macron\\n\\n[It was more around 50/50](https://www.ft.com/__origami/service/image/v2/images/raw/http%3A%2F%2Fcom.ft.imagepublish.prod.s3.amazonaws.com%2F6c47766a-3377-11e7-bce4-9023f8c0fd2e?source=next&amp;fit=scale-down&amp;width=700)\\n\\nWith the other 50% either abstaining (majority) and a smaller voting for Le Pen.\\n\\n&gt; Please explain how this helped Le Pen: 'Factually a lift gotten from'\\n\\nEvery non-vote doesn't count, increasing the representative percentage of every candidate ergo Le Pen got bigger numbers than she really represents. (Goes for Macron too though). It artificially lifted her result, thus the article is correct.\\n\\nMelenchon voters are target because Melenchon didn't follow tradition. Actions have consequences.\",\n",
       "       ...,\n",
       "       \"man Merkel, Obama and Macron are all globalist. You literally know nothing other than what the news spews in your face. Educate yourself. For a 40 year old it's pathetic. Open your mind, think for yourself.\\n\\nREEEE conspiracy you say? yea, see how many hours you've actually put into looking it up. Please just look into it instead of bashing others.\",\n",
       "       'I think they believed Le Pen to be a superhero capable of being the anti-terror Messiah, as if all of those with ill intent would just be like \"AW FUCK, NOW HOW AM I SUPPOSED TO VICTIMIZE CIVILIANS?!\"',\n",
       "       'That\\'s because most people search for \"Holland\" instead of the proper name. \\n\\nThe Germans don\\'t like being stereotyped as Bavarians, and we non-Hollanders don\\'t like to be called Hollanders. That\\'s fair, no?'],\n",
       "      dtype=object)"
      ]
     },
     "execution_count": 11,
     "metadata": {},
     "output_type": "execute_result"
    }
   ],
   "source": [
    "df.text.values"
   ]
  },
  {
   "cell_type": "markdown",
   "id": "06062a05-6c09-4a00-a55b-cb2c2f845f53",
   "metadata": {},
   "source": [
    "At first loook the data contains a lot of the following characters: \\n\\n, *, REEEE, \\,  Oooof, &, url, -, links, etc"
   ]
  },
  {
   "cell_type": "code",
   "execution_count": 63,
   "id": "62a9d0a0-ca64-433c-8284-0a07b2b44c11",
   "metadata": {},
   "outputs": [
    {
     "name": "stdout",
     "output_type": "stream",
     "text": [
      "Requirement already satisfied: emoji in /Users/jenifervivar/opt/anaconda3/lib/python3.9/site-packages (1.7.0)\n"
     ]
    }
   ],
   "source": [
    "!pip install emoji"
   ]
  },
  {
   "cell_type": "code",
   "execution_count": 72,
   "id": "79146403-4f1a-407a-ad2b-eab4e7ecc918",
   "metadata": {},
   "outputs": [
    {
     "name": "stdout",
     "output_type": "stream",
     "text": [
      "Collecting emot\n",
      "  Downloading emot-3.1-py3-none-any.whl (61 kB)\n",
      "\u001b[2K     \u001b[90m━━━━━━━━━━━━━━━━━━━━━━━━━━━━━━━━━━━━━━━\u001b[0m \u001b[32m61.5/61.5 kB\u001b[0m \u001b[31m461.4 kB/s\u001b[0m eta \u001b[36m0:00:00\u001b[0ma \u001b[36m0:00:01\u001b[0m\n",
      "\u001b[?25hInstalling collected packages: emot\n",
      "Successfully installed emot-3.1\n"
     ]
    }
   ],
   "source": [
    "!pip install emot"
   ]
  },
  {
   "cell_type": "markdown",
   "id": "f0998e11-afa2-4c0b-826e-02ddf0b37888",
   "metadata": {},
   "source": [
    "## Creating function to convert emojis to text"
   ]
  },
  {
   "cell_type": "code",
   "execution_count": 133,
   "id": "79ab81b9-4d31-4049-a52d-d261f0cc652f",
   "metadata": {},
   "outputs": [
    {
     "data": {
      "text/plain": [
       "'I love Python :red_heart:, it is brilliant :thumbs_up:'"
      ]
     },
     "execution_count": 133,
     "metadata": {},
     "output_type": "execute_result"
    }
   ],
   "source": [
    "import emoji\n",
    "\n",
    "text = 'I love Python ❤️, it is brilliant 👍'\n",
    "emoji.demojize(text )"
   ]
  },
  {
   "cell_type": "code",
   "execution_count": 134,
   "id": "5e015c2b-5864-41b1-9c72-88f2ae377f03",
   "metadata": {},
   "outputs": [],
   "source": [
    "def emoji_to_text(text):\n",
    "    return emoji.demojize(text)"
   ]
  },
  {
   "cell_type": "code",
   "execution_count": 135,
   "id": "9b187853-eeb4-4e9f-8671-95a17f936645",
   "metadata": {
    "tags": []
   },
   "outputs": [
    {
     "name": "stderr",
     "output_type": "stream",
     "text": [
      "[nltk_data] Downloading package stopwords to\n",
      "[nltk_data]     /Users/jenifervivar/nltk_data...\n",
      "[nltk_data]   Package stopwords is already up-to-date!\n"
     ]
    },
    {
     "data": {
      "text/plain": [
       "True"
      ]
     },
     "execution_count": 135,
     "metadata": {},
     "output_type": "execute_result"
    }
   ],
   "source": [
    "import re\n",
    "from cleantext.sklearn import CleanTransformer\n",
    "from nltk.corpus import stopwords\n",
    "from nltk.stem.porter import PorterStemmer\n",
    "import nltk\n",
    "nltk.download('stopwords')"
   ]
  },
  {
   "cell_type": "code",
   "execution_count": null,
   "id": "628b5f39-de98-46f8-b020-aee804d0aac9",
   "metadata": {},
   "outputs": [],
   "source": []
  },
  {
   "cell_type": "code",
   "execution_count": 136,
   "id": "44e50295-dd75-4881-a399-4ae12dcdc3a2",
   "metadata": {},
   "outputs": [],
   "source": [
    "porter = PorterStemmer()\n",
    "stop = stopwords.words('english')\n",
    "def tokenizer_porter(text):\n",
    "    return np.array([porter.stem(w) for w in text.split() if w not in stop])"
   ]
  },
  {
   "cell_type": "code",
   "execution_count": 137,
   "id": "0faa1be7-67dc-4378-b817-be7294d9d30b",
   "metadata": {},
   "outputs": [],
   "source": [
    "def stopWordsRemoval(text):\n",
    "    text = text.lower()\n",
    "    comm_split = text.split()\n",
    "    t = ''\n",
    "    i = 0\n",
    "    for w in comm_split:\n",
    "        if w not in stop: \n",
    "            if i <len(comm_split)-1:\n",
    "                t = t + w + \" \"\n",
    "                i+=1\n",
    "            if i>= len(comm_split)-1:\n",
    "                t = t + w\n",
    "        else:\n",
    "            i+=1\n",
    "            \n",
    "    return t"
   ]
  },
  {
   "cell_type": "code",
   "execution_count": 129,
   "id": "72558aa4-8bf8-4c3d-b351-648913bc1d4a",
   "metadata": {},
   "outputs": [],
   "source": [
    "cleaner = CleanTransformer(\n",
    "    fix_unicode=False,\n",
    "    to_ascii=False,\n",
    "    lower=True,\n",
    "    normalize_whitespace=True,\n",
    "    no_line_breaks=False,\n",
    "    strip_lines=False,\n",
    "    keep_two_line_breaks=False,\n",
    "    no_urls=True,\n",
    "    no_emails=True,\n",
    "    no_phone_numbers=False,\n",
    "    no_numbers=True,\n",
    "    no_digits=True,\n",
    "    no_currency_symbols=True,\n",
    "    no_punct=True,\n",
    "    no_emoji=False,\n",
    "    replace_with_url='',\n",
    "    replace_with_email='',\n",
    "    replace_with_phone_number='',\n",
    "    replace_with_number='',\n",
    "    replace_with_digit='',\n",
    "    replace_with_currency_symbol='',\n",
    "    replace_with_punct='',\n",
    "    lang='en',\n",
    ")"
   ]
  },
  {
   "cell_type": "code",
   "execution_count": 130,
   "id": "69987fa2-ae7c-429c-9a61-ebb7f9d319c9",
   "metadata": {},
   "outputs": [],
   "source": [
    "df['text_clean'] =  cleaner.transform(df.text)\n",
    "df['text_clean'] = np.array([emoji_to_text(t) for t in df.text_clean])\n",
    "#df['text_clean'] = np.array([re.sub('-', \" \", t) for t in df.text_clean])\n",
    "df['text_clean'] = np.array([re.sub('[>*^~]', \"\", t) for t in df.text_clean])\n",
    "df['text_clean'] = np.array([stopWordsRemoval(t) for t in df.text_clean])\n",
    "\n",
    "df[\"tokenized_text\"] = [tokenizer_porter(comment) for comment in df.text_clean]"
   ]
  },
  {
   "cell_type": "code",
   "execution_count": 125,
   "id": "901695d5-5d5e-44d9-bff7-18649b51095c",
   "metadata": {},
   "outputs": [
    {
     "data": {
      "image/png": "[encoded data removed]",
      "text/plain": [
       "<Figure size 640x480 with 1 Axes>"
      ]
     },
     "metadata": {},
     "output_type": "display_data"
    }
   ],
   "source": [
    "word_size = [len(arr) for arr in df.tokenized_text]\n",
    "plt.hist(word_size)\n",
    "plt.title(\"Count of Words Distribution per Comment\")\n",
    "plt.show()"
   ]
  },
  {
   "cell_type": "markdown",
   "id": "35ffa380-0d32-48f8-aa85-1f2422ad4b94",
   "metadata": {},
   "source": [
    "## The data is now cleaned and ready to be process with machine learning techniques"
   ]
  },
  {
   "cell_type": "markdown",
   "id": "358ce979-7e13-4288-85d9-bd5305284066",
   "metadata": {},
   "source": [
    "# Machile learning data pre-processing\n",
    "The data contains text data that needs to be converted to numerical data for the models to evealuated better.\n",
    "In this example we will use a bag of words model to get the word frecuency.\n"
   ]
  },
  {
   "cell_type": "code",
   "execution_count": 77,
   "id": "d5ba80df-1147-4aff-88a4-1318b84832b8",
   "metadata": {},
   "outputs": [],
   "source": [
    "X = df.text_clean\n",
    "y = df.annotation"
   ]
  },
  {
   "cell_type": "code",
   "execution_count": 94,
   "id": "36bac1d0-894b-4e65-a70a-595dd4d4b90e",
   "metadata": {},
   "outputs": [],
   "source": [
    "from sklearn.model_selection import train_test_split\n",
    "from sklearn.preprocessing import StandardScaler\n",
    "from sklearn.pipeline import make_pipeline\n",
    "from imblearn.over_sampling import RandomOverSampler\n",
    "from sklearn.svm import SVC\n",
    "from sklearn.metrics import accuracy_score\n",
    "from sklearn.model_selection import GridSearchCV\n",
    "from sklearn.pipeline import Pipeline\n",
    "from sklearn.model_selection import RandomizedSearchCV\n",
    "from sklearn.feature_extraction.text import TfidfTransformer\n",
    "from sklearn.feature_extraction.text import CountVectorizer\n",
    "#from sklearn.feature_extraction.text import HashingVectorize\n",
    "from imblearn.over_sampling import SMOTENC"
   ]
  },
  {
   "cell_type": "code",
   "execution_count": 193,
   "id": "fa8e499b-50af-400b-9628-78bb48c5a194",
   "metadata": {
    "collapsed": true,
    "jupyter": {
     "outputs_hidden": true
    },
    "tags": []
   },
   "outputs": [
    {
     "name": "stderr",
     "output_type": "stream",
     "text": [
      "/Users/jenifervivar/opt/anaconda3/lib/python3.9/site-packages/imblearn/over_sampling/_smote/base.py:731: FutureWarning: Unlike other reduction functions (e.g. `skew`, `kurtosis`), the default behavior of `mode` typically preserves the axis it acts along. In SciPy 1.11.0, this behavior will change: the default value of `keepdims` will become False, the `axis` over which the statistic is taken will be eliminated, and the value None will no longer be accepted. Set `keepdims` to True or False to avoid this warning.\n",
      "  stats.mode(X_class[nn_indices[samples_indices]], axis=1).mode, axis=1\n",
      "/Users/jenifervivar/opt/anaconda3/lib/python3.9/site-packages/imblearn/over_sampling/_smote/base.py:731: FutureWarning: Unlike other reduction functions (e.g. `skew`, `kurtosis`), the default behavior of `mode` typically preserves the axis it acts along. In SciPy 1.11.0, this behavior will change: the default value of `keepdims` will become False, the `axis` over which the statistic is taken will be eliminated, and the value None will no longer be accepted. Set `keepdims` to True or False to avoid this warning.\n",
      "  stats.mode(X_class[nn_indices[samples_indices]], axis=1).mode, axis=1\n",
      "/Users/jenifervivar/opt/anaconda3/lib/python3.9/site-packages/imblearn/over_sampling/_smote/base.py:731: FutureWarning: Unlike other reduction functions (e.g. `skew`, `kurtosis`), the default behavior of `mode` typically preserves the axis it acts along. In SciPy 1.11.0, this behavior will change: the default value of `keepdims` will become False, the `axis` over which the statistic is taken will be eliminated, and the value None will no longer be accepted. Set `keepdims` to True or False to avoid this warning.\n",
      "  stats.mode(X_class[nn_indices[samples_indices]], axis=1).mode, axis=1\n",
      "/Users/jenifervivar/opt/anaconda3/lib/python3.9/site-packages/imblearn/over_sampling/_smote/base.py:731: FutureWarning: Unlike other reduction functions (e.g. `skew`, `kurtosis`), the default behavior of `mode` typically preserves the axis it acts along. In SciPy 1.11.0, this behavior will change: the default value of `keepdims` will become False, the `axis` over which the statistic is taken will be eliminated, and the value None will no longer be accepted. Set `keepdims` to True or False to avoid this warning.\n",
      "  stats.mode(X_class[nn_indices[samples_indices]], axis=1).mode, axis=1\n",
      "/Users/jenifervivar/opt/anaconda3/lib/python3.9/site-packages/imblearn/over_sampling/_smote/base.py:731: FutureWarning: Unlike other reduction functions (e.g. `skew`, `kurtosis`), the default behavior of `mode` typically preserves the axis it acts along. In SciPy 1.11.0, this behavior will change: the default value of `keepdims` will become False, the `axis` over which the statistic is taken will be eliminated, and the value None will no longer be accepted. Set `keepdims` to True or False to avoid this warning.\n",
      "  stats.mode(X_class[nn_indices[samples_indices]], axis=1).mode, axis=1\n"
     ]
    }
   ],
   "source": [
    "from imblearn.over_sampling import SMOTEN\n",
    "sampler = SMOTEN(random_state=0)\n",
    "X_res, y_res = sampler.fit_resample(X.to_numpy().reshape(-1, 1), y)"
   ]
  },
  {
   "cell_type": "code",
   "execution_count": 195,
   "id": "9430a53f-9219-4613-8c93-2f9aab272cf9",
   "metadata": {
    "collapsed": true,
    "jupyter": {
     "outputs_hidden": true
    },
    "tags": []
   },
   "outputs": [
    {
     "name": "stderr",
     "output_type": "stream",
     "text": [
      "/Users/jenifervivar/opt/anaconda3/lib/python3.9/site-packages/imblearn/over_sampling/_smote/base.py:731: FutureWarning: Unlike other reduction functions (e.g. `skew`, `kurtosis`), the default behavior of `mode` typically preserves the axis it acts along. In SciPy 1.11.0, this behavior will change: the default value of `keepdims` will become False, the `axis` over which the statistic is taken will be eliminated, and the value None will no longer be accepted. Set `keepdims` to True or False to avoid this warning.\n",
      "  stats.mode(X_class[nn_indices[samples_indices]], axis=1).mode, axis=1\n",
      "/Users/jenifervivar/opt/anaconda3/lib/python3.9/site-packages/imblearn/over_sampling/_smote/base.py:731: FutureWarning: Unlike other reduction functions (e.g. `skew`, `kurtosis`), the default behavior of `mode` typically preserves the axis it acts along. In SciPy 1.11.0, this behavior will change: the default value of `keepdims` will become False, the `axis` over which the statistic is taken will be eliminated, and the value None will no longer be accepted. Set `keepdims` to True or False to avoid this warning.\n",
      "  stats.mode(X_class[nn_indices[samples_indices]], axis=1).mode, axis=1\n",
      "/Users/jenifervivar/opt/anaconda3/lib/python3.9/site-packages/imblearn/over_sampling/_smote/base.py:731: FutureWarning: Unlike other reduction functions (e.g. `skew`, `kurtosis`), the default behavior of `mode` typically preserves the axis it acts along. In SciPy 1.11.0, this behavior will change: the default value of `keepdims` will become False, the `axis` over which the statistic is taken will be eliminated, and the value None will no longer be accepted. Set `keepdims` to True or False to avoid this warning.\n",
      "  stats.mode(X_class[nn_indices[samples_indices]], axis=1).mode, axis=1\n",
      "/Users/jenifervivar/opt/anaconda3/lib/python3.9/site-packages/imblearn/over_sampling/_smote/base.py:731: FutureWarning: Unlike other reduction functions (e.g. `skew`, `kurtosis`), the default behavior of `mode` typically preserves the axis it acts along. In SciPy 1.11.0, this behavior will change: the default value of `keepdims` will become False, the `axis` over which the statistic is taken will be eliminated, and the value None will no longer be accepted. Set `keepdims` to True or False to avoid this warning.\n",
      "  stats.mode(X_class[nn_indices[samples_indices]], axis=1).mode, axis=1\n",
      "/Users/jenifervivar/opt/anaconda3/lib/python3.9/site-packages/imblearn/over_sampling/_smote/base.py:731: FutureWarning: Unlike other reduction functions (e.g. `skew`, `kurtosis`), the default behavior of `mode` typically preserves the axis it acts along. In SciPy 1.11.0, this behavior will change: the default value of `keepdims` will become False, the `axis` over which the statistic is taken will be eliminated, and the value None will no longer be accepted. Set `keepdims` to True or False to avoid this warning.\n",
      "  stats.mode(X_class[nn_indices[samples_indices]], axis=1).mode, axis=1\n"
     ]
    }
   ],
   "source": [
    "X_train, X_test, y_train, y_test = train_test_split(X, y)\n",
    "sampler = SMOTEN(random_state=0)\n",
    "X_train_bal, y_train_bal = sampler.fit_resample(X_train.to_numpy().reshape(-1, 1), y_train)"
   ]
  },
  {
   "cell_type": "code",
   "execution_count": 196,
   "id": "2fb59f63-edef-4702-bb12-d095b7a8b4be",
   "metadata": {},
   "outputs": [],
   "source": [
    "pipe= Pipeline([('vect', CountVectorizer()),\n",
    "               ('tfidf', TfidfTransformer()),\n",
    "               ('svc', SVC(C=500, random_state=42)),\n",
    "              ])\n"
   ]
  },
  {
   "cell_type": "code",
   "execution_count": 197,
   "id": "fde7886f-e199-43ab-9baa-7229fb5338e9",
   "metadata": {},
   "outputs": [
    {
     "data": {
      "text/plain": [
       "0.43352601156069365"
      ]
     },
     "execution_count": 197,
     "metadata": {},
     "output_type": "execute_result"
    }
   ],
   "source": [
    "pipe.fit(X_train, y_train)\n",
    "y_hat = pipe.predict(X_test)\n",
    "accuracy_score(y_test, y_hat)"
   ]
  },
  {
   "cell_type": "code",
   "execution_count": 198,
   "id": "673d4cb0-3ecf-4afb-8699-eb6a0dbfe588",
   "metadata": {},
   "outputs": [
    {
     "name": "stdout",
     "output_type": "stream",
     "text": [
      "                 precision    recall  f1-score   support\n",
      "\n",
      "           Care       0.37      0.45      0.41       153\n",
      "       Equality       0.42      0.68      0.52       216\n",
      "      Authority       0.52      0.58      0.55       214\n",
      "Proportionality       0.60      0.09      0.15        68\n",
      "         Purity       0.37      0.18      0.24       151\n",
      "        Loyalty       0.33      0.05      0.08        63\n",
      "\n",
      "       accuracy                           0.43       865\n",
      "      macro avg       0.44      0.34      0.33       865\n",
      "   weighted avg       0.43      0.43      0.40       865\n",
      "\n"
     ]
    }
   ],
   "source": [
    "from sklearn.metrics import classification_report\n",
    "print(classification_report(y_test, y_hat,target_names=df.annotation.value_counts().index.values))"
   ]
  },
  {
   "cell_type": "code",
   "execution_count": 206,
   "id": "801d9517-c991-4902-9898-95ab6080200b",
   "metadata": {},
   "outputs": [],
   "source": [
    "pipe= Pipeline([('vect', CountVectorizer()),\n",
    "               ('tfidf', TfidfTransformer()),\n",
    "               ('svc', SVC(class_weight = 'balanced', random_state=42)),\n",
    "              ])\n",
    "\n",
    "c_vals = [1.0, 10.0, 100.0, 120.0, 150.0, 1000.0]\n",
    "\n",
    "params_grid = [{\"svc__C\": c_vals,\n",
    "                'svc__kernel': ['linear']\n",
    "                },\n",
    "                {\"svc__C\": c_vals,\n",
    "                'svc__kernel': [\"poly\"],\n",
    "                'svc__gamma': c_vals\n",
    "                },\n",
    "               \n",
    "                {\"svc__C\": c_vals,\n",
    "                'svc__kernel': ['rbf'],\n",
    "                'svc__gamma': c_vals\n",
    "                }\n",
    "                ] \n"
   ]
  },
  {
   "cell_type": "code",
   "execution_count": 207,
   "id": "5e59706c-b84a-4b98-8ac3-80be2603512e",
   "metadata": {
    "tags": []
   },
   "outputs": [
    {
     "name": "stdout",
     "output_type": "stream",
     "text": [
      "{'svc__kernel': 'rbf', 'svc__gamma': 1.0, 'svc__C': 150.0}\n"
     ]
    }
   ],
   "source": [
    "from sklearn.model_selection import RandomizedSearchCV\n",
    "\n",
    "grid_search = RandomizedSearchCV(estimator = pipe,\\\n",
    "                                 param_distributions = params_grid,\\\n",
    "                                 scoring = 'accuracy',\\\n",
    "                                 refit = True,\n",
    "                                 random_state= 42\n",
    "                                )\n",
    "\n",
    "gs_result = grid_search.fit(X_train, y_train)\n",
    "print(gs_result.best_params_)"
   ]
  },
  {
   "cell_type": "code",
   "execution_count": 208,
   "id": "26ac6d37-05c0-48f8-98d1-2ce4d5dbe556",
   "metadata": {},
   "outputs": [
    {
     "data": {
      "text/plain": [
       "0.42427745664739885"
      ]
     },
     "execution_count": 208,
     "metadata": {},
     "output_type": "execute_result"
    }
   ],
   "source": [
    "pipe= Pipeline([('vect', CountVectorizer()),\n",
    "               ('tfidf', TfidfTransformer()),\n",
    "               ('svc', SVC(C=150, random_state=42, gamma= 1, class_weight= 'balanced')),\n",
    "              ])\n",
    "pipe.fit(X_train, y_train)\n",
    "y_hat = pipe.predict(X_test)\n",
    "accuracy_score(y_test, y_hat)"
   ]
  },
  {
   "cell_type": "code",
   "execution_count": 209,
   "id": "f68a67e6-a8e4-4a12-9143-24ac595949c5",
   "metadata": {},
   "outputs": [
    {
     "name": "stdout",
     "output_type": "stream",
     "text": [
      "                 precision    recall  f1-score   support\n",
      "\n",
      "           Care       0.37      0.46      0.41       153\n",
      "       Equality       0.43      0.64      0.51       216\n",
      "      Authority       0.50      0.57      0.53       214\n",
      "Proportionality       0.64      0.10      0.18        68\n",
      "         Purity       0.31      0.18      0.23       151\n",
      "        Loyalty       0.27      0.05      0.08        63\n",
      "\n",
      "       accuracy                           0.42       865\n",
      "      macro avg       0.42      0.33      0.32       865\n",
      "   weighted avg       0.42      0.42      0.39       865\n",
      "\n"
     ]
    }
   ],
   "source": [
    "print(classification_report(y_test, y_hat,target_names=df.annotation.value_counts().index.values))"
   ]
  },
  {
   "cell_type": "markdown",
   "id": "966b5eaf-4117-4c9d-b71b-6d3ebe518819",
   "metadata": {},
   "source": [
    "# SVM RBF Results\n",
    "The results for the classifiers were not that bad. The classifier predicted the sentiments with a 42% accuracy. This was an increase on the performance before the class weight was set to balanced and before the data was cleaned throughly.\n",
    "\n",
    "\n",
    "# Random Forest Algorithm"
   ]
  },
  {
   "cell_type": "code",
   "execution_count": 210,
   "id": "6a86affb-46ac-4748-b52d-caa55707b16a",
   "metadata": {},
   "outputs": [],
   "source": [
    "from sklearn.ensemble import RandomForestClassifier"
   ]
  },
  {
   "cell_type": "code",
   "execution_count": 215,
   "id": "4811c15e-45b2-4d83-90d3-3f80745e0195",
   "metadata": {},
   "outputs": [
    {
     "name": "stdout",
     "output_type": "stream",
     "text": [
      "{'rf__n_estimators': 900, 'rf__criterion': 'gini'}\n"
     ]
    }
   ],
   "source": [
    "rf = RandomForestClassifier(random_state=42, class_weight = 'balanced')\n",
    "criteria = [\"gini\", \"entropy\", \"log_loss\"]\n",
    "stimators = np.arange(100, 1000, 100)\n",
    "\n",
    "params_grid_rf = [{\"rf__criterion\": criteria,\n",
    "                'rf__n_estimators': stimators\n",
    "                }] \n",
    "\n",
    "pipe= Pipeline([('vect', CountVectorizer()),\n",
    "               ('tfidf', TfidfTransformer()),\n",
    "               ('rf', RandomForestClassifier(random_state=42, class_weight = 'balanced')),\n",
    "              ])\n",
    "\n",
    "grid_search = RandomizedSearchCV(estimator = pipe,\\\n",
    "                                 param_distributions = params_grid_rf,\\\n",
    "                                 scoring = 'accuracy',\\\n",
    "                                 refit = False,\n",
    "                                 random_state= 42\n",
    "                                )\n",
    "\n",
    "gs_result = grid_search.fit(X_train, y_train)\n",
    "print(gs_result.best_params_)"
   ]
  },
  {
   "cell_type": "code",
   "execution_count": 218,
   "id": "5041e78b-10f9-4eb3-ba97-adadb174d588",
   "metadata": {},
   "outputs": [
    {
     "data": {
      "text/plain": [
       "0.41040462427745666"
      ]
     },
     "execution_count": 218,
     "metadata": {},
     "output_type": "execute_result"
    }
   ],
   "source": [
    "pipe= Pipeline([('vect', CountVectorizer()),\n",
    "               ('tfidf', TfidfTransformer()),\n",
    "               ('rf', RandomForestClassifier(n_estimators = 900,random_state=42, class_weight = 'balanced')),\n",
    "              ])\n",
    "\n",
    "pipe.fit(X_train, y_train)\n",
    "y_hat = pipe.predict(X_test)\n",
    "accuracy_score(y_test, y_hat)"
   ]
  },
  {
   "cell_type": "code",
   "execution_count": 219,
   "id": "e7b7368a-5495-48a7-a1c7-50d2cd323fb8",
   "metadata": {},
   "outputs": [
    {
     "name": "stdout",
     "output_type": "stream",
     "text": [
      "                 precision    recall  f1-score   support\n",
      "\n",
      "           Care       0.35      0.52      0.42       153\n",
      "       Equality       0.38      0.70      0.49       216\n",
      "      Authority       0.59      0.46      0.52       214\n",
      "Proportionality       0.47      0.12      0.19        68\n",
      "         Purity       0.34      0.08      0.13       151\n",
      "        Loyalty       0.31      0.06      0.11        63\n",
      "\n",
      "       accuracy                           0.41       865\n",
      "      macro avg       0.41      0.32      0.31       865\n",
      "   weighted avg       0.42      0.41      0.37       865\n",
      "\n"
     ]
    }
   ],
   "source": [
    "print(classification_report(y_test, y_hat,target_names=df.annotation.value_counts().index.values))"
   ]
  },
  {
   "cell_type": "markdown",
   "id": "4e204cb2-f382-4ea9-8ce7-ab40c848c21b",
   "metadata": {},
   "source": [
    "# Lazy Algorithm"
   ]
  },
  {
   "cell_type": "code",
   "execution_count": 220,
   "id": "decf8ad4-3b74-4890-a5b4-05277ea45d64",
   "metadata": {},
   "outputs": [],
   "source": [
    "from sklearn.neighbors import KNeighborsClassifier"
   ]
  },
  {
   "cell_type": "code",
   "execution_count": 221,
   "id": "3601b2ce-ac96-4b31-9429-17b19c20337d",
   "metadata": {},
   "outputs": [
    {
     "name": "stdout",
     "output_type": "stream",
     "text": [
      "{'KN__n_neighbors': 70}\n"
     ]
    }
   ],
   "source": [
    "n_neighbors = np.arange(5, 100, 5)\n",
    "params_grid_rf = [{\"KN__n_neighbors\":n_neighbors,\n",
    "                }] \n",
    "\n",
    "pipe= Pipeline([('vect', CountVectorizer()),\n",
    "               ('tfidf', TfidfTransformer()),\n",
    "               ('KN', KNeighborsClassifier()),\n",
    "              ])\n",
    "\n",
    "grid_search = RandomizedSearchCV(estimator = pipe,\\\n",
    "                                 param_distributions = params_grid_rf,\\\n",
    "                                 scoring = 'accuracy',\\\n",
    "                                 refit = False,\n",
    "                                 random_state= 42\n",
    "                                )\n",
    "\n",
    "gs_result = grid_search.fit(X_train, y_train)\n",
    "print(gs_result.best_params_)"
   ]
  },
  {
   "cell_type": "code",
   "execution_count": 222,
   "id": "1b8cda42-befe-4bd1-84fb-170d9a5e1786",
   "metadata": {},
   "outputs": [
    {
     "data": {
      "text/plain": [
       "0.4"
      ]
     },
     "execution_count": 222,
     "metadata": {},
     "output_type": "execute_result"
    }
   ],
   "source": [
    "pipe= Pipeline([('vect', CountVectorizer()),\n",
    "               ('tfidf', TfidfTransformer()),\n",
    "               ('KN', KNeighborsClassifier(n_neighbors = 70)),\n",
    "              ])\n",
    "\n",
    "pipe.fit(X_train, y_train)\n",
    "y_hat = pipe.predict(X_test)\n",
    "accuracy_score(y_test, y_hat)"
   ]
  },
  {
   "cell_type": "code",
   "execution_count": 223,
   "id": "1426eff5-b707-423e-8029-410a3680693c",
   "metadata": {},
   "outputs": [
    {
     "name": "stdout",
     "output_type": "stream",
     "text": [
      "                 precision    recall  f1-score   support\n",
      "\n",
      "           Care       0.34      0.39      0.36       153\n",
      "       Equality       0.37      0.69      0.48       216\n",
      "      Authority       0.49      0.56      0.52       214\n",
      "Proportionality       1.00      0.01      0.03        68\n",
      "         Purity       0.39      0.11      0.17       151\n",
      "        Loyalty       0.00      0.00      0.00        63\n",
      "\n",
      "       accuracy                           0.40       865\n",
      "      macro avg       0.43      0.29      0.26       865\n",
      "   weighted avg       0.42      0.40      0.35       865\n",
      "\n"
     ]
    },
    {
     "name": "stderr",
     "output_type": "stream",
     "text": [
      "/Users/jenifervivar/opt/anaconda3/lib/python3.9/site-packages/sklearn/metrics/_classification.py:1334: UndefinedMetricWarning: Precision and F-score are ill-defined and being set to 0.0 in labels with no predicted samples. Use `zero_division` parameter to control this behavior.\n",
      "  _warn_prf(average, modifier, msg_start, len(result))\n",
      "/Users/jenifervivar/opt/anaconda3/lib/python3.9/site-packages/sklearn/metrics/_classification.py:1334: UndefinedMetricWarning: Precision and F-score are ill-defined and being set to 0.0 in labels with no predicted samples. Use `zero_division` parameter to control this behavior.\n",
      "  _warn_prf(average, modifier, msg_start, len(result))\n",
      "/Users/jenifervivar/opt/anaconda3/lib/python3.9/site-packages/sklearn/metrics/_classification.py:1334: UndefinedMetricWarning: Precision and F-score are ill-defined and being set to 0.0 in labels with no predicted samples. Use `zero_division` parameter to control this behavior.\n",
      "  _warn_prf(average, modifier, msg_start, len(result))\n"
     ]
    }
   ],
   "source": [
    "print(classification_report(y_test, y_hat,target_names=df.annotation.value_counts().index.values))"
   ]
  },
  {
   "cell_type": "code",
   "execution_count": 226,
   "id": "cb8cc3cb-1296-4c17-8144-208d1d5e6b75",
   "metadata": {},
   "outputs": [
    {
     "data": {
      "image/png": "[encoded data removed]",
      "text/plain": [
       "<Figure size 640x480 with 1 Axes>"
      ]
     },
     "metadata": {},
     "output_type": "display_data"
    }
   ],
   "source": [
    "results = [0.42, 0.41, 0.40]\n",
    "algorithms = [\"SVM\", \"RandomForest\", \"KNearestNeighbor\"]\n",
    "\n",
    "plt.bar(algorithms, results)\n",
    "plt.show()"
   ]
  },
  {
   "cell_type": "code",
   "execution_count": 227,
   "id": "9cd91b72-1b3c-4e8a-ad3f-afba40beccde",
   "metadata": {},
   "outputs": [],
   "source": [
    "df.to_csv(\"redditCleanedTokenized.csv\",index = False)"
   ]
  },
  {
   "cell_type": "code",
   "execution_count": null,
   "id": "05d6e098-3ee4-448b-ac6e-536652a63ac6",
   "metadata": {},
   "outputs": [],
   "source": []
  }
 ],
 "metadata": {
  "kernelspec": {
   "display_name": "Python 3 (ipykernel)",
   "language": "python",
   "name": "python3"
  },
  "language_info": {
   "codemirror_mode": {
    "name": "ipython",
    "version": 3
   },
   "file_extension": ".py",
   "mimetype": "text/x-python",
   "name": "python",
   "nbconvert_exporter": "python",
   "pygments_lexer": "ipython3",
   "version": "3.9.12"
  }
 },
 "nbformat": 4,
 "nbformat_minor": 5
}
